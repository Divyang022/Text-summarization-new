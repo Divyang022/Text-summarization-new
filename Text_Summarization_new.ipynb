{
  "nbformat": 4,
  "nbformat_minor": 0,
  "metadata": {
    "colab": {
      "provenance": []
    },
    "kernelspec": {
      "name": "python3",
      "display_name": "Python 3"
    },
    "language_info": {
      "name": "python"
    }
  },
  "cells": [
    {
      "cell_type": "code",
      "execution_count": 1,
      "metadata": {
        "id": "V48LHcb4Yw8q"
      },
      "outputs": [],
      "source": [
        "import numpy as np\n",
        "import pandas as pd\n",
        "import nltk\n",
        "import re\n",
        "from nltk.tokenize import sent_tokenize\n",
        "from nltk.corpus import stopwords\n",
        "from gensim.models import Word2Vec\n",
        "from scipy import spatial\n",
        "import networkx as nx"
      ]
    },
    {
      "cell_type": "code",
      "source": [
        "text='''\n",
        "Ajinkya Rahane's batting masterclass followed by Ravichandran Ashwin's bowling heroics sealed Team India's massive 337-run win over South Africa in the fourth and final Test of the bilateral series at Delhi in 2015. Local hero Virat Kohli, who was at the helm, had described Team India's famous win as the most special of the bilateral series between the two nations.\n",
        "\n",
        "Just like how India humbled Australia in the Border-Gavaskar Trophy 2023, Kohli and Co. wrapped up the Test match against South Africa within three days at the time. In the thrilling contest at Arun Jaitely Stadium, Kohli's men had to grind hard for each wicket in the 2nd innings of the Test match. Batting icons AB de Villiers and Hasim Amla had epitomised South Africa's resistance at Delhi.\n",
        "\n",
        "For former Indian fielding coach R Sridhar, the Delhi Test match between India and South Africa served him with one of the toughest lessons of his coaching career. Taking a trip down memory lane in his recently-published book 'Coaching Beyond: My Days with the Indian Cricket Team', the former Indian fielding coach revealed that he wanted to walk away from his job after the 2015 Test match in Delhi.\n",
        "\n",
        "“I learnt some harsh lessons reasonably early on in my stint with the Indian team. One of the most impactful ones came at the Kotla, in the final Test of the 2015 series against South Africa. We already enjoyed a winning 2-0 lead, and by tea on day five, it seemed as if South Africa might succeed in preventing us from scoring a third successive victory. With AB putting on a stonewalling act for the ages and receiving support from Hashim Amla and Faf du Plessis on a dead track, South Africa were only five down at the final interval of the series. We were going to give it one final push on a gloomy December evening, but we were also reconciled to a stalemate, if it came to that,” Sridhar recalled.\n",
        "'''"
      ],
      "metadata": {
        "id": "puGxxR3ZZAjd"
      },
      "execution_count": 2,
      "outputs": []
    },
    {
      "cell_type": "code",
      "source": [
        "nltk.download('punkt')\n",
        "sentences=sent_tokenize(text)"
      ],
      "metadata": {
        "colab": {
          "base_uri": "https://localhost:8080/"
        },
        "id": "oq2ckleEZDAu",
        "outputId": "1e759505-65ef-405b-987c-16fa38720808"
      },
      "execution_count": 3,
      "outputs": [
        {
          "output_type": "stream",
          "name": "stderr",
          "text": [
            "[nltk_data] Downloading package punkt to /root/nltk_data...\n",
            "[nltk_data]   Unzipping tokenizers/punkt.zip.\n"
          ]
        }
      ]
    },
    {
      "cell_type": "code",
      "source": [
        "nltk.download('stopwords')\n",
        "\n",
        "sentences_clean=[re.sub(r'[^\\w\\s]','',sentence.lower()) for sentence in sentences]\n",
        "stop_words = stopwords.words('english')\n",
        "sentence_tokens=[[words for words in sentence.split(' ') if words not in stop_words] for sentence in sentences_clean]"
      ],
      "metadata": {
        "colab": {
          "base_uri": "https://localhost:8080/"
        },
        "id": "pxH693dCZDou",
        "outputId": "e3250d03-11a0-472f-bcd6-cacc33a88fef"
      },
      "execution_count": 4,
      "outputs": [
        {
          "output_type": "stream",
          "name": "stderr",
          "text": [
            "[nltk_data] Downloading package stopwords to /root/nltk_data...\n",
            "[nltk_data]   Unzipping corpora/stopwords.zip.\n"
          ]
        }
      ]
    },
    {
      "cell_type": "code",
      "source": [
        "w2v = Word2Vec(sentence_tokens, vector_size=10, min_count=1, epochs=1000)\n",
        "sentence_embeddings = [[w2v.wv[word][0] for word in words] for words in sentence_tokens]\n",
        "max_len = max([len(tokens) for tokens in sentence_tokens])\n",
        "sentence_embeddings = [np.pad(embedding, (0, max_len - len(embedding)), 'constant') for embedding in sentence_embeddings]"
      ],
      "metadata": {
        "id": "UG1VRYBVZFYD"
      },
      "execution_count": 7,
      "outputs": []
    },
    {
      "cell_type": "code",
      "source": [
        "similarity_matrix = np.zeros([len(sentence_tokens), len(sentence_tokens)])\n",
        "for i,row_embedding in enumerate(sentence_embeddings):\n",
        "    for j,column_embedding in enumerate(sentence_embeddings):\n",
        "        similarity_matrix[i][j]=1-spatial.distance.cosine(row_embedding,column_embedding)"
      ],
      "metadata": {
        "id": "_p8WhgIuZItX"
      },
      "execution_count": 8,
      "outputs": []
    },
    {
      "cell_type": "code",
      "source": [
        "!pip install 'networkx<2.7'\n",
        "nx_graph = nx.from_numpy_array(similarity_matrix)\n",
        "scores = nx.pagerank(nx_graph)"
      ],
      "metadata": {
        "colab": {
          "base_uri": "https://localhost:8080/"
        },
        "id": "a9Gg6L75ZKvm",
        "outputId": "b17b22dc-54d6-4389-9e62-0eba757d2be6"
      },
      "execution_count": 21,
      "outputs": [
        {
          "output_type": "stream",
          "name": "stdout",
          "text": [
            "Requirement already satisfied: networkx<2.7 in /usr/local/lib/python3.10/dist-packages (2.6.3)\n"
          ]
        }
      ]
    },
    {
      "cell_type": "code",
      "source": [
        "top_sentence={sentence:scores[index] for index,sentence in enumerate(sentences)}\n",
        "top=dict(sorted(top_sentence.items(), key=lambda x: x[1], reverse=True)[:4])"
      ],
      "metadata": {
        "id": "xaPVUZbEZMey"
      },
      "execution_count": 22,
      "outputs": []
    },
    {
      "cell_type": "code",
      "source": [
        "for sent in sentences:\n",
        "    if sent in top.keys():\n",
        "        print(sent)"
      ],
      "metadata": {
        "colab": {
          "base_uri": "https://localhost:8080/"
        },
        "id": "ona4CMQvZOWD",
        "outputId": "386b7b1f-1a45-48ef-8de7-4929dcadb4b0"
      },
      "execution_count": 23,
      "outputs": [
        {
          "output_type": "stream",
          "name": "stdout",
          "text": [
            "Local hero Virat Kohli, who was at the helm, had described Team India's famous win as the most special of the bilateral series between the two nations.\n",
            "In the thrilling contest at Arun Jaitely Stadium, Kohli's men had to grind hard for each wicket in the 2nd innings of the Test match.\n",
            "Batting icons AB de Villiers and Hasim Amla had epitomised South Africa's resistance at Delhi.\n",
            "We already enjoyed a winning 2-0 lead, and by tea on day five, it seemed as if South Africa might succeed in preventing us from scoring a third successive victory.\n"
          ]
        }
      ]
    }
  ]
}